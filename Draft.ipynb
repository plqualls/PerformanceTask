{
 "cells": [
  {
   "cell_type": "code",
   "execution_count": 1,
   "metadata": {},
   "outputs": [],
   "source": [
    "import pandas as pd\n",
    "\n",
    "\n"
   ]
  },
  {
   "cell_type": "code",
   "execution_count": 2,
   "metadata": {},
   "outputs": [],
   "source": [
    "#Load CSV files\n",
    "achievement = pd.read_csv('Working Files\\CAMP_D1_STAAR1_final.csv')\n",
    "rating = pd.read_csv('Working Files\\CAMPRATE_final.csv')"
   ]
  },
  {
   "cell_type": "code",
   "execution_count": 3,
   "metadata": {},
   "outputs": [
    {
     "name": "stdout",
     "output_type": "stream",
     "text": [
      "   cda00a001219r  cda00a001319r  cda00a001s19r  cda00ar01219r  cda00ar01319r  \\\n",
      "0           67.0           22.0           86.0           63.0           12.0   \n",
      "1           57.0           26.0           82.0           57.0           36.0   \n",
      "2           62.0           36.0           86.0           60.0           36.0   \n",
      "3           63.0           25.0           80.0           51.0            9.0   \n",
      "4            NaN            NaN            NaN            NaN            NaN   \n",
      "\n",
      "   cda00ar01s19r  CAMPUSID       campname  cpe0312c    cpe0312p  cpetecoc  \\\n",
      "0           78.0   1902001     CAYUGA H S       179  100.000000        70   \n",
      "1           81.0   1902041  CAYUGA MIDDLE       119  100.000000        42   \n",
      "2           86.0   1902103      CAYUGA EL       143   53.799999       128   \n",
      "3           68.0   1903001    ELKHART H S       376  100.000000       187   \n",
      "4            NaN   1903002   ELKHART DAEP         2  100.000000         2   \n",
      "\n",
      "     cpetecop  cpetlepc  cpetlepp  cpetspec  cpetspep   grdspan  \n",
      "0   39.099998         0       0.0        36      20.1  '09 - 12  \n",
      "1   35.299999         1       0.8        13      10.9  '06 - 08  \n",
      "2   48.099998         0       0.0        35      13.2  'PK - 05  \n",
      "3   49.700001         0       0.0        43      11.4  '09 - 12  \n",
      "4  100.000000         0       0.0         0       0.0  '08 - 10  \n"
     ]
    }
   ],
   "source": [
    "#Merge dataframes based on CAMPUSID column\n",
    "merged_df = pd.merge(achievement, rating, on='CAMPUSID')\n",
    "\n",
    "#Print merged dataframe\n",
    "print(merged_df.head())\n",
    "\n",
    "merged_df.to_csv('merged_achievement_rating.csv', index=False)"
   ]
  },
  {
   "cell_type": "code",
   "execution_count": 19,
   "metadata": {},
   "outputs": [
    {
     "ename": "NameError",
     "evalue": "name 'cda00a001219r' is not defined",
     "output_type": "error",
     "traceback": [
      "\u001b[1;31m---------------------------------------------------------------------------\u001b[0m",
      "\u001b[1;31mNameError\u001b[0m                                 Traceback (most recent call last)",
      "\u001b[1;32m<ipython-input-19-12bf9d3941eb>\u001b[0m in \u001b[0;36m<module>\u001b[1;34m\u001b[0m\n\u001b[1;32m----> 1\u001b[1;33m \u001b[0mmerged_df\u001b[0m\u001b[1;33m.\u001b[0m\u001b[0mrename\u001b[0m\u001b[1;33m(\u001b[0m\u001b[1;33m{\u001b[0m\u001b[0mcda00a001219r\u001b[0m \u001b[1;33m:\u001b[0m \u001b[1;34m'Meets'\u001b[0m\u001b[1;33m}\u001b[0m\u001b[1;33m,\u001b[0m \u001b[0maxis\u001b[0m\u001b[1;33m=\u001b[0m\u001b[1;36m1\u001b[0m\u001b[1;33m)\u001b[0m\u001b[1;33m\u001b[0m\u001b[1;33m\u001b[0m\u001b[0m\n\u001b[0m",
      "\u001b[1;31mNameError\u001b[0m: name 'cda00a001219r' is not defined"
     ]
    }
   ],
   "source": [
    "merged_df.rename({cda00a001219r : 'Meets'}, axis=1)\n"
   ]
  },
  {
   "cell_type": "code",
   "execution_count": 18,
   "metadata": {},
   "outputs": [
    {
     "name": "stdout",
     "output_type": "stream",
     "text": [
      "<bound method NDFrame.head of       cda00a001219r  cda00a001319r  cda00a001s19r  cda00ar01219r  \\\n",
      "0              67.0           22.0           86.0           63.0   \n",
      "1              57.0           26.0           82.0           57.0   \n",
      "2              62.0           36.0           86.0           60.0   \n",
      "3              63.0           25.0           80.0           51.0   \n",
      "4               NaN            NaN            NaN            NaN   \n",
      "...             ...            ...            ...            ...   \n",
      "8189           34.0           13.0           69.0           40.0   \n",
      "8190           32.0           10.0           65.0           31.0   \n",
      "8191           21.0            8.0           50.0           23.0   \n",
      "8192           31.0           10.0           66.0           36.0   \n",
      "8193           36.0           16.0           78.0           44.0   \n",
      "\n",
      "      cda00ar01319r  cda00ar01s19r   CAMPUSID               campname  \\\n",
      "0              12.0           78.0    1902001             CAYUGA H S   \n",
      "1              36.0           81.0    1902041          CAYUGA MIDDLE   \n",
      "2              36.0           86.0    1902103              CAYUGA EL   \n",
      "3               9.0           68.0    1903001            ELKHART H S   \n",
      "4               NaN            NaN    1903002           ELKHART DAEP   \n",
      "...             ...            ...        ...                    ...   \n",
      "8189           18.0           71.0  254901042  STERLING H FLY JR H S   \n",
      "8190           12.0           62.0  254901104   BENITO JUAREZ MIDDLE   \n",
      "8191            9.0           51.0  254901106              ZAVALA EL   \n",
      "8192           10.0           63.0  254902001           LA PRYOR H S   \n",
      "8193           20.0           85.0  254902101            LA PRYOR EL   \n",
      "\n",
      "      cpe0312c    cpe0312p  cpetecoc    cpetecop  cpetlepc  cpetlepp  \\\n",
      "0          179  100.000000        70   39.099998         0       0.0   \n",
      "1          119  100.000000        42   35.299999         1       0.8   \n",
      "2          143   53.799999       128   48.099998         0       0.0   \n",
      "3          376  100.000000       187   49.700001         0       0.0   \n",
      "4            2  100.000000         2  100.000000         0       0.0   \n",
      "...        ...         ...       ...         ...       ...       ...   \n",
      "8189       301  100.000000       251   83.400002         7       2.3   \n",
      "8190       299  100.000000       244   81.599998         4       1.3   \n",
      "8191       285   71.099998       353   88.000000        12       3.0   \n",
      "8192       215  100.000000       169   78.599998        14       6.5   \n",
      "8193       140   48.599998       250   86.800003        14       4.9   \n",
      "\n",
      "      cpetspec  cpetspep   grdspan  \n",
      "0           36      20.1  '09 - 12  \n",
      "1           13      10.9  '06 - 08  \n",
      "2           35      13.2  'PK - 05  \n",
      "3           43      11.4  '09 - 12  \n",
      "4            0       0.0  '08 - 10  \n",
      "...        ...       ...       ...  \n",
      "8189        43      14.3  '07 - 08  \n",
      "8190        31      10.4  '05 - 06  \n",
      "8191        50      12.5  '02 - 04  \n",
      "8192        26      12.1  '07 - 12  \n",
      "8193        32      11.1  'PK - 06  \n",
      "\n",
      "[8194 rows x 17 columns]>\n"
     ]
    }
   ],
   "source": []
  },
  {
   "cell_type": "code",
   "execution_count": null,
   "metadata": {},
   "outputs": [],
   "source": []
  },
  {
   "cell_type": "code",
   "execution_count": null,
   "metadata": {},
   "outputs": [],
   "source": []
  },
  {
   "cell_type": "code",
   "execution_count": null,
   "metadata": {},
   "outputs": [],
   "source": []
  },
  {
   "cell_type": "code",
   "execution_count": null,
   "metadata": {},
   "outputs": [],
   "source": []
  },
  {
   "cell_type": "code",
   "execution_count": null,
   "metadata": {},
   "outputs": [],
   "source": []
  },
  {
   "cell_type": "code",
   "execution_count": null,
   "metadata": {},
   "outputs": [],
   "source": []
  },
  {
   "cell_type": "code",
   "execution_count": null,
   "metadata": {},
   "outputs": [],
   "source": []
  },
  {
   "cell_type": "code",
   "execution_count": null,
   "metadata": {},
   "outputs": [],
   "source": []
  }
 ],
 "metadata": {
  "language_info": {
   "codemirror_mode": {
    "name": "ipython",
    "version": 3
   },
   "file_extension": ".py",
   "mimetype": "text/x-python",
   "name": "python",
   "nbconvert_exporter": "python",
   "pygments_lexer": "ipython3",
   "version": "3.8.3"
  }
 },
 "nbformat": 4,
 "nbformat_minor": 4
}
